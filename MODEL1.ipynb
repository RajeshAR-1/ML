{
 "cells": [
  {
   "cell_type": "markdown",
   "metadata": {},
   "source": [
    "# Covid-19 Daily Vaccinations India"
   ]
  },
  {
   "cell_type": "code",
   "execution_count": null,
   "metadata": {},
   "outputs": [],
   "source": []
  },
  {
   "cell_type": "code",
   "execution_count": 1,
   "metadata": {},
   "outputs": [],
   "source": [
    "import numpy as np\n",
    "import pandas as pd\n",
    "import matplotlib.pyplot as plt\n",
    "import seaborn as sns"
   ]
  },
  {
   "cell_type": "code",
   "execution_count": 2,
   "metadata": {},
   "outputs": [],
   "source": [
    "df = pd.read_csv('Covid-19_Daily_Vaccinations_India.csv')"
   ]
  },
  {
   "cell_type": "markdown",
   "metadata": {},
   "source": [
    "# Columns\n",
    "\n",
    "location - Location of the vaccination(country).\n",
    "\n",
    "date - Date in format dd-mm-yyyy.\n",
    "\n",
    "vaccine - Name of the vaccine(s) administered in the country on that day.\n",
    "\n",
    "source_url - Source of the information for the vaccination.\n",
    "\n",
    "total-vaccinations - Total number of doses administered till that day. If a person receives one dose of the vaccine, this metric goes up by 1. If they receive a second dose, it goes up by 1 again.\n",
    "\n",
    "total_vaccinations_per_hundred - total_vaccinations per 100 people in the total population.\n",
    "\n",
    "people_vaccinated - Total number of people who received at least one vaccine dose. If a person receives the first dose of a 2-dose vaccine, this metric goes up by 1. If they receive the second dose, the metric stays the same.\n",
    "\n",
    "people_vaccinated_per_hundred - people_vaccinated per 100 people in the total population.\n",
    "\n",
    "people_fully_vaccinated - Total number of people who received all doses prescribed by the vaccination protocol. If a person \n",
    "\n",
    "receives the first dose of a 2-dose vaccine, this metric stays the same.If they receive the second dose,the metric goesup by 1.\n",
    "people_fully_vaccinated_per_hundred- people_fully_vaccinated per 100 people in the total population.\n",
    "\n",
    "daily_vaccinations - New doses administered per day.\n",
    "\n",
    "daily_vaccinations_per_million - daily_vaccinations per 1,000,000 people in the total population.\n",
    "\n",
    "daily_change_in_vaccinations - Change in the number of doses administered (daily_vaccinations) from the previous day."
   ]
  },
  {
   "cell_type": "code",
   "execution_count": 3,
   "metadata": {},
   "outputs": [
    {
     "data": {
      "text/html": [
       "<div>\n",
       "<style scoped>\n",
       "    .dataframe tbody tr th:only-of-type {\n",
       "        vertical-align: middle;\n",
       "    }\n",
       "\n",
       "    .dataframe tbody tr th {\n",
       "        vertical-align: top;\n",
       "    }\n",
       "\n",
       "    .dataframe thead th {\n",
       "        text-align: right;\n",
       "    }\n",
       "</style>\n",
       "<table border=\"1\" class=\"dataframe\">\n",
       "  <thead>\n",
       "    <tr style=\"text-align: right;\">\n",
       "      <th></th>\n",
       "      <th>Unnamed: 0</th>\n",
       "      <th>location</th>\n",
       "      <th>date</th>\n",
       "      <th>vaccine</th>\n",
       "      <th>source_url</th>\n",
       "      <th>total_vaccinations</th>\n",
       "      <th>total_vaccinations_per_hundred</th>\n",
       "      <th>people_vaccinated</th>\n",
       "      <th>people_vaccinated_per_hundred</th>\n",
       "      <th>people_fully_vaccinated</th>\n",
       "      <th>people_fully_vaccinated_per_hundred</th>\n",
       "      <th>daily_vaccinations</th>\n",
       "      <th>daily_change_in_vaccinations</th>\n",
       "      <th>daily_vaccinations_per_million</th>\n",
       "    </tr>\n",
       "  </thead>\n",
       "  <tbody>\n",
       "    <tr>\n",
       "      <th>0</th>\n",
       "      <td>0</td>\n",
       "      <td>India</td>\n",
       "      <td>15-01-2021</td>\n",
       "      <td>Covaxin, Oxford/AstraZeneca</td>\n",
       "      <td>https://twitter.com/MoHFW_INDIA/status/1350459...</td>\n",
       "      <td>0</td>\n",
       "      <td>0.00</td>\n",
       "      <td>0</td>\n",
       "      <td>0.00</td>\n",
       "      <td>0</td>\n",
       "      <td>0.0</td>\n",
       "      <td>0</td>\n",
       "      <td>0</td>\n",
       "      <td>0</td>\n",
       "    </tr>\n",
       "    <tr>\n",
       "      <th>1</th>\n",
       "      <td>1</td>\n",
       "      <td>India</td>\n",
       "      <td>16-01-2021</td>\n",
       "      <td>Covaxin, Oxford/AstraZeneca</td>\n",
       "      <td>https://twitter.com/MoHFW_INDIA/status/1350459...</td>\n",
       "      <td>191181</td>\n",
       "      <td>0.01</td>\n",
       "      <td>191181</td>\n",
       "      <td>0.01</td>\n",
       "      <td>0</td>\n",
       "      <td>0.0</td>\n",
       "      <td>191181</td>\n",
       "      <td>191181</td>\n",
       "      <td>139</td>\n",
       "    </tr>\n",
       "    <tr>\n",
       "      <th>2</th>\n",
       "      <td>2</td>\n",
       "      <td>India</td>\n",
       "      <td>17-01-2021</td>\n",
       "      <td>Covaxin, Oxford/AstraZeneca</td>\n",
       "      <td>https://twitter.com/MoHFW_INDIA/status/1350815...</td>\n",
       "      <td>224301</td>\n",
       "      <td>0.02</td>\n",
       "      <td>224301</td>\n",
       "      <td>0.02</td>\n",
       "      <td>0</td>\n",
       "      <td>0.0</td>\n",
       "      <td>112150</td>\n",
       "      <td>-79031</td>\n",
       "      <td>81</td>\n",
       "    </tr>\n",
       "    <tr>\n",
       "      <th>3</th>\n",
       "      <td>3</td>\n",
       "      <td>India</td>\n",
       "      <td>18-01-2021</td>\n",
       "      <td>Covaxin, Oxford/AstraZeneca</td>\n",
       "      <td>https://www.mohfw.gov.in/</td>\n",
       "      <td>454049</td>\n",
       "      <td>0.03</td>\n",
       "      <td>454049</td>\n",
       "      <td>0.03</td>\n",
       "      <td>0</td>\n",
       "      <td>0.0</td>\n",
       "      <td>151350</td>\n",
       "      <td>39200</td>\n",
       "      <td>110</td>\n",
       "    </tr>\n",
       "    <tr>\n",
       "      <th>4</th>\n",
       "      <td>4</td>\n",
       "      <td>India</td>\n",
       "      <td>19-01-2021</td>\n",
       "      <td>Covaxin, Oxford/AstraZeneca</td>\n",
       "      <td>https://www.mohfw.gov.in/</td>\n",
       "      <td>674835</td>\n",
       "      <td>0.05</td>\n",
       "      <td>674835</td>\n",
       "      <td>0.05</td>\n",
       "      <td>0</td>\n",
       "      <td>0.0</td>\n",
       "      <td>168709</td>\n",
       "      <td>17359</td>\n",
       "      <td>122</td>\n",
       "    </tr>\n",
       "  </tbody>\n",
       "</table>\n",
       "</div>"
      ],
      "text/plain": [
       "   Unnamed: 0 location        date                      vaccine  \\\n",
       "0           0    India  15-01-2021  Covaxin, Oxford/AstraZeneca   \n",
       "1           1    India  16-01-2021  Covaxin, Oxford/AstraZeneca   \n",
       "2           2    India  17-01-2021  Covaxin, Oxford/AstraZeneca   \n",
       "3           3    India  18-01-2021  Covaxin, Oxford/AstraZeneca   \n",
       "4           4    India  19-01-2021  Covaxin, Oxford/AstraZeneca   \n",
       "\n",
       "                                          source_url  total_vaccinations  \\\n",
       "0  https://twitter.com/MoHFW_INDIA/status/1350459...                   0   \n",
       "1  https://twitter.com/MoHFW_INDIA/status/1350459...              191181   \n",
       "2  https://twitter.com/MoHFW_INDIA/status/1350815...              224301   \n",
       "3                          https://www.mohfw.gov.in/              454049   \n",
       "4                          https://www.mohfw.gov.in/              674835   \n",
       "\n",
       "   total_vaccinations_per_hundred  people_vaccinated  \\\n",
       "0                            0.00                  0   \n",
       "1                            0.01             191181   \n",
       "2                            0.02             224301   \n",
       "3                            0.03             454049   \n",
       "4                            0.05             674835   \n",
       "\n",
       "   people_vaccinated_per_hundred  people_fully_vaccinated  \\\n",
       "0                           0.00                        0   \n",
       "1                           0.01                        0   \n",
       "2                           0.02                        0   \n",
       "3                           0.03                        0   \n",
       "4                           0.05                        0   \n",
       "\n",
       "   people_fully_vaccinated_per_hundred  daily_vaccinations  \\\n",
       "0                                  0.0                   0   \n",
       "1                                  0.0              191181   \n",
       "2                                  0.0              112150   \n",
       "3                                  0.0              151350   \n",
       "4                                  0.0              168709   \n",
       "\n",
       "   daily_change_in_vaccinations  daily_vaccinations_per_million  \n",
       "0                             0                               0  \n",
       "1                        191181                             139  \n",
       "2                        -79031                              81  \n",
       "3                         39200                             110  \n",
       "4                         17359                             122  "
      ]
     },
     "execution_count": 3,
     "metadata": {},
     "output_type": "execute_result"
    }
   ],
   "source": [
    "df.head()"
   ]
  },
  {
   "cell_type": "code",
   "execution_count": 4,
   "metadata": {},
   "outputs": [
    {
     "data": {
      "text/html": [
       "<div>\n",
       "<style scoped>\n",
       "    .dataframe tbody tr th:only-of-type {\n",
       "        vertical-align: middle;\n",
       "    }\n",
       "\n",
       "    .dataframe tbody tr th {\n",
       "        vertical-align: top;\n",
       "    }\n",
       "\n",
       "    .dataframe thead th {\n",
       "        text-align: right;\n",
       "    }\n",
       "</style>\n",
       "<table border=\"1\" class=\"dataframe\">\n",
       "  <thead>\n",
       "    <tr style=\"text-align: right;\">\n",
       "      <th></th>\n",
       "      <th>Unnamed: 0</th>\n",
       "      <th>total_vaccinations</th>\n",
       "      <th>total_vaccinations_per_hundred</th>\n",
       "      <th>people_vaccinated</th>\n",
       "      <th>people_vaccinated_per_hundred</th>\n",
       "      <th>people_fully_vaccinated</th>\n",
       "      <th>people_fully_vaccinated_per_hundred</th>\n",
       "      <th>daily_vaccinations</th>\n",
       "      <th>daily_change_in_vaccinations</th>\n",
       "      <th>daily_vaccinations_per_million</th>\n",
       "    </tr>\n",
       "  </thead>\n",
       "  <tbody>\n",
       "    <tr>\n",
       "      <th>count</th>\n",
       "      <td>89.000000</td>\n",
       "      <td>8.900000e+01</td>\n",
       "      <td>89.000000</td>\n",
       "      <td>8.900000e+01</td>\n",
       "      <td>89.000000</td>\n",
       "      <td>8.900000e+01</td>\n",
       "      <td>89.000000</td>\n",
       "      <td>8.900000e+01</td>\n",
       "      <td>89.000000</td>\n",
       "      <td>89.000000</td>\n",
       "    </tr>\n",
       "    <tr>\n",
       "      <th>mean</th>\n",
       "      <td>44.000000</td>\n",
       "      <td>3.058592e+07</td>\n",
       "      <td>2.216404</td>\n",
       "      <td>2.640329e+07</td>\n",
       "      <td>1.913034</td>\n",
       "      <td>4.182624e+06</td>\n",
       "      <td>0.303258</td>\n",
       "      <td>1.177500e+06</td>\n",
       "      <td>43236.651685</td>\n",
       "      <td>853.213483</td>\n",
       "    </tr>\n",
       "    <tr>\n",
       "      <th>std</th>\n",
       "      <td>25.836021</td>\n",
       "      <td>3.247053e+07</td>\n",
       "      <td>2.352958</td>\n",
       "      <td>2.808493e+07</td>\n",
       "      <td>2.035282</td>\n",
       "      <td>4.479811e+06</td>\n",
       "      <td>0.325160</td>\n",
       "      <td>1.111474e+06</td>\n",
       "      <td>107104.739116</td>\n",
       "      <td>805.416683</td>\n",
       "    </tr>\n",
       "    <tr>\n",
       "      <th>min</th>\n",
       "      <td>0.000000</td>\n",
       "      <td>0.000000e+00</td>\n",
       "      <td>0.000000</td>\n",
       "      <td>0.000000e+00</td>\n",
       "      <td>0.000000</td>\n",
       "      <td>0.000000e+00</td>\n",
       "      <td>0.000000</td>\n",
       "      <td>0.000000e+00</td>\n",
       "      <td>-406525.000000</td>\n",
       "      <td>0.000000</td>\n",
       "    </tr>\n",
       "    <tr>\n",
       "      <th>25%</th>\n",
       "      <td>22.000000</td>\n",
       "      <td>5.775322e+06</td>\n",
       "      <td>0.420000</td>\n",
       "      <td>5.775322e+06</td>\n",
       "      <td>0.420000</td>\n",
       "      <td>0.000000e+00</td>\n",
       "      <td>0.000000</td>\n",
       "      <td>3.061910e+05</td>\n",
       "      <td>-1712.000000</td>\n",
       "      <td>222.000000</td>\n",
       "    </tr>\n",
       "    <tr>\n",
       "      <th>50%</th>\n",
       "      <td>44.000000</td>\n",
       "      <td>1.485414e+07</td>\n",
       "      <td>1.080000</td>\n",
       "      <td>1.225634e+07</td>\n",
       "      <td>0.890000</td>\n",
       "      <td>2.597799e+06</td>\n",
       "      <td>0.190000</td>\n",
       "      <td>4.900060e+05</td>\n",
       "      <td>20390.000000</td>\n",
       "      <td>355.000000</td>\n",
       "    </tr>\n",
       "    <tr>\n",
       "      <th>75%</th>\n",
       "      <td>66.000000</td>\n",
       "      <td>5.084129e+07</td>\n",
       "      <td>3.680000</td>\n",
       "      <td>4.273195e+07</td>\n",
       "      <td>3.100000</td>\n",
       "      <td>8.109334e+06</td>\n",
       "      <td>0.590000</td>\n",
       "      <td>1.977848e+06</td>\n",
       "      <td>76579.000000</td>\n",
       "      <td>1433.000000</td>\n",
       "    </tr>\n",
       "    <tr>\n",
       "      <th>max</th>\n",
       "      <td>88.000000</td>\n",
       "      <td>1.144932e+08</td>\n",
       "      <td>8.300000</td>\n",
       "      <td>1.001792e+08</td>\n",
       "      <td>7.260000</td>\n",
       "      <td>1.431404e+07</td>\n",
       "      <td>1.040000</td>\n",
       "      <td>3.659357e+06</td>\n",
       "      <td>488977.000000</td>\n",
       "      <td>2652.000000</td>\n",
       "    </tr>\n",
       "  </tbody>\n",
       "</table>\n",
       "</div>"
      ],
      "text/plain": [
       "       Unnamed: 0  total_vaccinations  total_vaccinations_per_hundred  \\\n",
       "count   89.000000        8.900000e+01                       89.000000   \n",
       "mean    44.000000        3.058592e+07                        2.216404   \n",
       "std     25.836021        3.247053e+07                        2.352958   \n",
       "min      0.000000        0.000000e+00                        0.000000   \n",
       "25%     22.000000        5.775322e+06                        0.420000   \n",
       "50%     44.000000        1.485414e+07                        1.080000   \n",
       "75%     66.000000        5.084129e+07                        3.680000   \n",
       "max     88.000000        1.144932e+08                        8.300000   \n",
       "\n",
       "       people_vaccinated  people_vaccinated_per_hundred  \\\n",
       "count       8.900000e+01                      89.000000   \n",
       "mean        2.640329e+07                       1.913034   \n",
       "std         2.808493e+07                       2.035282   \n",
       "min         0.000000e+00                       0.000000   \n",
       "25%         5.775322e+06                       0.420000   \n",
       "50%         1.225634e+07                       0.890000   \n",
       "75%         4.273195e+07                       3.100000   \n",
       "max         1.001792e+08                       7.260000   \n",
       "\n",
       "       people_fully_vaccinated  people_fully_vaccinated_per_hundred  \\\n",
       "count             8.900000e+01                            89.000000   \n",
       "mean              4.182624e+06                             0.303258   \n",
       "std               4.479811e+06                             0.325160   \n",
       "min               0.000000e+00                             0.000000   \n",
       "25%               0.000000e+00                             0.000000   \n",
       "50%               2.597799e+06                             0.190000   \n",
       "75%               8.109334e+06                             0.590000   \n",
       "max               1.431404e+07                             1.040000   \n",
       "\n",
       "       daily_vaccinations  daily_change_in_vaccinations  \\\n",
       "count        8.900000e+01                     89.000000   \n",
       "mean         1.177500e+06                  43236.651685   \n",
       "std          1.111474e+06                 107104.739116   \n",
       "min          0.000000e+00                -406525.000000   \n",
       "25%          3.061910e+05                  -1712.000000   \n",
       "50%          4.900060e+05                  20390.000000   \n",
       "75%          1.977848e+06                  76579.000000   \n",
       "max          3.659357e+06                 488977.000000   \n",
       "\n",
       "       daily_vaccinations_per_million  \n",
       "count                       89.000000  \n",
       "mean                       853.213483  \n",
       "std                        805.416683  \n",
       "min                          0.000000  \n",
       "25%                        222.000000  \n",
       "50%                        355.000000  \n",
       "75%                       1433.000000  \n",
       "max                       2652.000000  "
      ]
     },
     "execution_count": 4,
     "metadata": {},
     "output_type": "execute_result"
    }
   ],
   "source": [
    "df.describe()"
   ]
  },
  {
   "cell_type": "code",
   "execution_count": 5,
   "metadata": {},
   "outputs": [
    {
     "data": {
      "text/plain": [
       "(89, 14)"
      ]
     },
     "execution_count": 5,
     "metadata": {},
     "output_type": "execute_result"
    }
   ],
   "source": [
    "df.shape"
   ]
  },
  {
   "cell_type": "code",
   "execution_count": 6,
   "metadata": {},
   "outputs": [
    {
     "name": "stdout",
     "output_type": "stream",
     "text": [
      "<class 'pandas.core.frame.DataFrame'>\n",
      "RangeIndex: 89 entries, 0 to 88\n",
      "Data columns (total 14 columns):\n",
      " #   Column                               Non-Null Count  Dtype  \n",
      "---  ------                               --------------  -----  \n",
      " 0   Unnamed: 0                           89 non-null     int64  \n",
      " 1   location                             89 non-null     object \n",
      " 2   date                                 89 non-null     object \n",
      " 3   vaccine                              89 non-null     object \n",
      " 4   source_url                           89 non-null     object \n",
      " 5   total_vaccinations                   89 non-null     int64  \n",
      " 6   total_vaccinations_per_hundred       89 non-null     float64\n",
      " 7   people_vaccinated                    89 non-null     int64  \n",
      " 8   people_vaccinated_per_hundred        89 non-null     float64\n",
      " 9   people_fully_vaccinated              89 non-null     int64  \n",
      " 10  people_fully_vaccinated_per_hundred  89 non-null     float64\n",
      " 11  daily_vaccinations                   89 non-null     int64  \n",
      " 12  daily_change_in_vaccinations         89 non-null     int64  \n",
      " 13  daily_vaccinations_per_million       89 non-null     int64  \n",
      "dtypes: float64(3), int64(7), object(4)\n",
      "memory usage: 9.9+ KB\n"
     ]
    }
   ],
   "source": [
    "df.info()"
   ]
  },
  {
   "cell_type": "code",
   "execution_count": 7,
   "metadata": {},
   "outputs": [
    {
     "data": {
      "text/plain": [
       "Unnamed: 0                             0\n",
       "location                               0\n",
       "date                                   0\n",
       "vaccine                                0\n",
       "source_url                             0\n",
       "total_vaccinations                     0\n",
       "total_vaccinations_per_hundred         0\n",
       "people_vaccinated                      0\n",
       "people_vaccinated_per_hundred          0\n",
       "people_fully_vaccinated                0\n",
       "people_fully_vaccinated_per_hundred    0\n",
       "daily_vaccinations                     0\n",
       "daily_change_in_vaccinations           0\n",
       "daily_vaccinations_per_million         0\n",
       "dtype: int64"
      ]
     },
     "execution_count": 7,
     "metadata": {},
     "output_type": "execute_result"
    }
   ],
   "source": [
    "df.isnull().sum()"
   ]
  },
  {
   "cell_type": "code",
   "execution_count": 8,
   "metadata": {},
   "outputs": [
    {
     "data": {
      "text/html": [
       "<div>\n",
       "<style scoped>\n",
       "    .dataframe tbody tr th:only-of-type {\n",
       "        vertical-align: middle;\n",
       "    }\n",
       "\n",
       "    .dataframe tbody tr th {\n",
       "        vertical-align: top;\n",
       "    }\n",
       "\n",
       "    .dataframe thead th {\n",
       "        text-align: right;\n",
       "    }\n",
       "</style>\n",
       "<table border=\"1\" class=\"dataframe\">\n",
       "  <thead>\n",
       "    <tr style=\"text-align: right;\">\n",
       "      <th></th>\n",
       "      <th>location</th>\n",
       "      <th>date</th>\n",
       "      <th>vaccine</th>\n",
       "      <th>total_vaccinations</th>\n",
       "      <th>total_vaccinations_per_hundred</th>\n",
       "      <th>people_vaccinated</th>\n",
       "      <th>people_vaccinated_per_hundred</th>\n",
       "      <th>people_fully_vaccinated</th>\n",
       "      <th>people_fully_vaccinated_per_hundred</th>\n",
       "      <th>daily_vaccinations</th>\n",
       "      <th>daily_change_in_vaccinations</th>\n",
       "      <th>daily_vaccinations_per_million</th>\n",
       "    </tr>\n",
       "  </thead>\n",
       "  <tbody>\n",
       "    <tr>\n",
       "      <th>0</th>\n",
       "      <td>India</td>\n",
       "      <td>15-01-2021</td>\n",
       "      <td>Covaxin, Oxford/AstraZeneca</td>\n",
       "      <td>0</td>\n",
       "      <td>0.00</td>\n",
       "      <td>0</td>\n",
       "      <td>0.00</td>\n",
       "      <td>0</td>\n",
       "      <td>0.0</td>\n",
       "      <td>0</td>\n",
       "      <td>0</td>\n",
       "      <td>0</td>\n",
       "    </tr>\n",
       "    <tr>\n",
       "      <th>1</th>\n",
       "      <td>India</td>\n",
       "      <td>16-01-2021</td>\n",
       "      <td>Covaxin, Oxford/AstraZeneca</td>\n",
       "      <td>191181</td>\n",
       "      <td>0.01</td>\n",
       "      <td>191181</td>\n",
       "      <td>0.01</td>\n",
       "      <td>0</td>\n",
       "      <td>0.0</td>\n",
       "      <td>191181</td>\n",
       "      <td>191181</td>\n",
       "      <td>139</td>\n",
       "    </tr>\n",
       "    <tr>\n",
       "      <th>2</th>\n",
       "      <td>India</td>\n",
       "      <td>17-01-2021</td>\n",
       "      <td>Covaxin, Oxford/AstraZeneca</td>\n",
       "      <td>224301</td>\n",
       "      <td>0.02</td>\n",
       "      <td>224301</td>\n",
       "      <td>0.02</td>\n",
       "      <td>0</td>\n",
       "      <td>0.0</td>\n",
       "      <td>112150</td>\n",
       "      <td>-79031</td>\n",
       "      <td>81</td>\n",
       "    </tr>\n",
       "    <tr>\n",
       "      <th>3</th>\n",
       "      <td>India</td>\n",
       "      <td>18-01-2021</td>\n",
       "      <td>Covaxin, Oxford/AstraZeneca</td>\n",
       "      <td>454049</td>\n",
       "      <td>0.03</td>\n",
       "      <td>454049</td>\n",
       "      <td>0.03</td>\n",
       "      <td>0</td>\n",
       "      <td>0.0</td>\n",
       "      <td>151350</td>\n",
       "      <td>39200</td>\n",
       "      <td>110</td>\n",
       "    </tr>\n",
       "    <tr>\n",
       "      <th>4</th>\n",
       "      <td>India</td>\n",
       "      <td>19-01-2021</td>\n",
       "      <td>Covaxin, Oxford/AstraZeneca</td>\n",
       "      <td>674835</td>\n",
       "      <td>0.05</td>\n",
       "      <td>674835</td>\n",
       "      <td>0.05</td>\n",
       "      <td>0</td>\n",
       "      <td>0.0</td>\n",
       "      <td>168709</td>\n",
       "      <td>17359</td>\n",
       "      <td>122</td>\n",
       "    </tr>\n",
       "  </tbody>\n",
       "</table>\n",
       "</div>"
      ],
      "text/plain": [
       "  location        date                      vaccine  total_vaccinations  \\\n",
       "0    India  15-01-2021  Covaxin, Oxford/AstraZeneca                   0   \n",
       "1    India  16-01-2021  Covaxin, Oxford/AstraZeneca              191181   \n",
       "2    India  17-01-2021  Covaxin, Oxford/AstraZeneca              224301   \n",
       "3    India  18-01-2021  Covaxin, Oxford/AstraZeneca              454049   \n",
       "4    India  19-01-2021  Covaxin, Oxford/AstraZeneca              674835   \n",
       "\n",
       "   total_vaccinations_per_hundred  people_vaccinated  \\\n",
       "0                            0.00                  0   \n",
       "1                            0.01             191181   \n",
       "2                            0.02             224301   \n",
       "3                            0.03             454049   \n",
       "4                            0.05             674835   \n",
       "\n",
       "   people_vaccinated_per_hundred  people_fully_vaccinated  \\\n",
       "0                           0.00                        0   \n",
       "1                           0.01                        0   \n",
       "2                           0.02                        0   \n",
       "3                           0.03                        0   \n",
       "4                           0.05                        0   \n",
       "\n",
       "   people_fully_vaccinated_per_hundred  daily_vaccinations  \\\n",
       "0                                  0.0                   0   \n",
       "1                                  0.0              191181   \n",
       "2                                  0.0              112150   \n",
       "3                                  0.0              151350   \n",
       "4                                  0.0              168709   \n",
       "\n",
       "   daily_change_in_vaccinations  daily_vaccinations_per_million  \n",
       "0                             0                               0  \n",
       "1                        191181                             139  \n",
       "2                        -79031                              81  \n",
       "3                         39200                             110  \n",
       "4                         17359                             122  "
      ]
     },
     "execution_count": 8,
     "metadata": {},
     "output_type": "execute_result"
    }
   ],
   "source": [
    "df = df.drop([\"Unnamed: 0\",\"source_url\"],axis=1)\n",
    "df.head()"
   ]
  },
  {
   "cell_type": "code",
   "execution_count": 9,
   "metadata": {},
   "outputs": [
    {
     "data": {
      "text/plain": [
       "location                                object\n",
       "date                                    object\n",
       "vaccine                                 object\n",
       "total_vaccinations                       int64\n",
       "total_vaccinations_per_hundred         float64\n",
       "people_vaccinated                        int64\n",
       "people_vaccinated_per_hundred          float64\n",
       "people_fully_vaccinated                  int64\n",
       "people_fully_vaccinated_per_hundred    float64\n",
       "daily_vaccinations                       int64\n",
       "daily_change_in_vaccinations             int64\n",
       "daily_vaccinations_per_million           int64\n",
       "dtype: object"
      ]
     },
     "execution_count": 9,
     "metadata": {},
     "output_type": "execute_result"
    }
   ],
   "source": [
    "df.dtypes"
   ]
  },
  {
   "cell_type": "markdown",
   "metadata": {},
   "source": [
    "## Coverting Categorical data into Numerical values"
   ]
  },
  {
   "cell_type": "code",
   "execution_count": 10,
   "metadata": {},
   "outputs": [
    {
     "data": {
      "text/html": [
       "<div>\n",
       "<style scoped>\n",
       "    .dataframe tbody tr th:only-of-type {\n",
       "        vertical-align: middle;\n",
       "    }\n",
       "\n",
       "    .dataframe tbody tr th {\n",
       "        vertical-align: top;\n",
       "    }\n",
       "\n",
       "    .dataframe thead th {\n",
       "        text-align: right;\n",
       "    }\n",
       "</style>\n",
       "<table border=\"1\" class=\"dataframe\">\n",
       "  <thead>\n",
       "    <tr style=\"text-align: right;\">\n",
       "      <th></th>\n",
       "      <th>date</th>\n",
       "      <th>total_vaccinations</th>\n",
       "      <th>total_vaccinations_per_hundred</th>\n",
       "      <th>people_vaccinated</th>\n",
       "      <th>people_vaccinated_per_hundred</th>\n",
       "      <th>people_fully_vaccinated</th>\n",
       "      <th>people_fully_vaccinated_per_hundred</th>\n",
       "      <th>daily_vaccinations</th>\n",
       "      <th>daily_change_in_vaccinations</th>\n",
       "      <th>daily_vaccinations_per_million</th>\n",
       "      <th>location_India</th>\n",
       "      <th>vaccine_Covaxin, Oxford/AstraZeneca</th>\n",
       "    </tr>\n",
       "  </thead>\n",
       "  <tbody>\n",
       "    <tr>\n",
       "      <th>0</th>\n",
       "      <td>15-01-2021</td>\n",
       "      <td>0</td>\n",
       "      <td>0.00</td>\n",
       "      <td>0</td>\n",
       "      <td>0.00</td>\n",
       "      <td>0</td>\n",
       "      <td>0.00</td>\n",
       "      <td>0</td>\n",
       "      <td>0</td>\n",
       "      <td>0</td>\n",
       "      <td>1</td>\n",
       "      <td>1</td>\n",
       "    </tr>\n",
       "    <tr>\n",
       "      <th>1</th>\n",
       "      <td>16-01-2021</td>\n",
       "      <td>191181</td>\n",
       "      <td>0.01</td>\n",
       "      <td>191181</td>\n",
       "      <td>0.01</td>\n",
       "      <td>0</td>\n",
       "      <td>0.00</td>\n",
       "      <td>191181</td>\n",
       "      <td>191181</td>\n",
       "      <td>139</td>\n",
       "      <td>1</td>\n",
       "      <td>1</td>\n",
       "    </tr>\n",
       "    <tr>\n",
       "      <th>2</th>\n",
       "      <td>17-01-2021</td>\n",
       "      <td>224301</td>\n",
       "      <td>0.02</td>\n",
       "      <td>224301</td>\n",
       "      <td>0.02</td>\n",
       "      <td>0</td>\n",
       "      <td>0.00</td>\n",
       "      <td>112150</td>\n",
       "      <td>-79031</td>\n",
       "      <td>81</td>\n",
       "      <td>1</td>\n",
       "      <td>1</td>\n",
       "    </tr>\n",
       "    <tr>\n",
       "      <th>3</th>\n",
       "      <td>18-01-2021</td>\n",
       "      <td>454049</td>\n",
       "      <td>0.03</td>\n",
       "      <td>454049</td>\n",
       "      <td>0.03</td>\n",
       "      <td>0</td>\n",
       "      <td>0.00</td>\n",
       "      <td>151350</td>\n",
       "      <td>39200</td>\n",
       "      <td>110</td>\n",
       "      <td>1</td>\n",
       "      <td>1</td>\n",
       "    </tr>\n",
       "    <tr>\n",
       "      <th>4</th>\n",
       "      <td>19-01-2021</td>\n",
       "      <td>674835</td>\n",
       "      <td>0.05</td>\n",
       "      <td>674835</td>\n",
       "      <td>0.05</td>\n",
       "      <td>0</td>\n",
       "      <td>0.00</td>\n",
       "      <td>168709</td>\n",
       "      <td>17359</td>\n",
       "      <td>122</td>\n",
       "      <td>1</td>\n",
       "      <td>1</td>\n",
       "    </tr>\n",
       "    <tr>\n",
       "      <th>...</th>\n",
       "      <td>...</td>\n",
       "      <td>...</td>\n",
       "      <td>...</td>\n",
       "      <td>...</td>\n",
       "      <td>...</td>\n",
       "      <td>...</td>\n",
       "      <td>...</td>\n",
       "      <td>...</td>\n",
       "      <td>...</td>\n",
       "      <td>...</td>\n",
       "      <td>...</td>\n",
       "      <td>...</td>\n",
       "    </tr>\n",
       "    <tr>\n",
       "      <th>84</th>\n",
       "      <td>04-10-2021</td>\n",
       "      <td>101595147</td>\n",
       "      <td>7.36</td>\n",
       "      <td>88885961</td>\n",
       "      <td>6.44</td>\n",
       "      <td>12709186</td>\n",
       "      <td>0.92</td>\n",
       "      <td>3659357</td>\n",
       "      <td>84948</td>\n",
       "      <td>2652</td>\n",
       "      <td>1</td>\n",
       "      <td>1</td>\n",
       "    </tr>\n",
       "    <tr>\n",
       "      <th>85</th>\n",
       "      <td>11-04-2021</td>\n",
       "      <td>104528565</td>\n",
       "      <td>7.57</td>\n",
       "      <td>91587400</td>\n",
       "      <td>6.64</td>\n",
       "      <td>12941165</td>\n",
       "      <td>0.94</td>\n",
       "      <td>3631915</td>\n",
       "      <td>27442</td>\n",
       "      <td>2632</td>\n",
       "      <td>1</td>\n",
       "      <td>1</td>\n",
       "    </tr>\n",
       "    <tr>\n",
       "      <th>86</th>\n",
       "      <td>12-04-2021</td>\n",
       "      <td>108533085</td>\n",
       "      <td>7.86</td>\n",
       "      <td>95043039</td>\n",
       "      <td>6.89</td>\n",
       "      <td>13490046</td>\n",
       "      <td>0.98</td>\n",
       "      <td>3631737</td>\n",
       "      <td>178</td>\n",
       "      <td>2632</td>\n",
       "      <td>1</td>\n",
       "      <td>1</td>\n",
       "    </tr>\n",
       "    <tr>\n",
       "      <th>87</th>\n",
       "      <td>13-04-2021</td>\n",
       "      <td>111179578</td>\n",
       "      <td>8.06</td>\n",
       "      <td>97301914</td>\n",
       "      <td>7.05</td>\n",
       "      <td>13877664</td>\n",
       "      <td>1.01</td>\n",
       "      <td>3443158</td>\n",
       "      <td>188579</td>\n",
       "      <td>2495</td>\n",
       "      <td>1</td>\n",
       "      <td>1</td>\n",
       "    </tr>\n",
       "    <tr>\n",
       "      <th>88</th>\n",
       "      <td>14-04-2021</td>\n",
       "      <td>114493238</td>\n",
       "      <td>8.30</td>\n",
       "      <td>100179199</td>\n",
       "      <td>7.26</td>\n",
       "      <td>14314039</td>\n",
       "      <td>1.04</td>\n",
       "      <td>3470652</td>\n",
       "      <td>-27494</td>\n",
       "      <td>2515</td>\n",
       "      <td>1</td>\n",
       "      <td>1</td>\n",
       "    </tr>\n",
       "  </tbody>\n",
       "</table>\n",
       "<p>89 rows × 12 columns</p>\n",
       "</div>"
      ],
      "text/plain": [
       "          date  total_vaccinations  total_vaccinations_per_hundred  \\\n",
       "0   15-01-2021                   0                            0.00   \n",
       "1   16-01-2021              191181                            0.01   \n",
       "2   17-01-2021              224301                            0.02   \n",
       "3   18-01-2021              454049                            0.03   \n",
       "4   19-01-2021              674835                            0.05   \n",
       "..         ...                 ...                             ...   \n",
       "84  04-10-2021           101595147                            7.36   \n",
       "85  11-04-2021           104528565                            7.57   \n",
       "86  12-04-2021           108533085                            7.86   \n",
       "87  13-04-2021           111179578                            8.06   \n",
       "88  14-04-2021           114493238                            8.30   \n",
       "\n",
       "    people_vaccinated  people_vaccinated_per_hundred  people_fully_vaccinated  \\\n",
       "0                   0                           0.00                        0   \n",
       "1              191181                           0.01                        0   \n",
       "2              224301                           0.02                        0   \n",
       "3              454049                           0.03                        0   \n",
       "4              674835                           0.05                        0   \n",
       "..                ...                            ...                      ...   \n",
       "84           88885961                           6.44                 12709186   \n",
       "85           91587400                           6.64                 12941165   \n",
       "86           95043039                           6.89                 13490046   \n",
       "87           97301914                           7.05                 13877664   \n",
       "88          100179199                           7.26                 14314039   \n",
       "\n",
       "    people_fully_vaccinated_per_hundred  daily_vaccinations  \\\n",
       "0                                  0.00                   0   \n",
       "1                                  0.00              191181   \n",
       "2                                  0.00              112150   \n",
       "3                                  0.00              151350   \n",
       "4                                  0.00              168709   \n",
       "..                                  ...                 ...   \n",
       "84                                 0.92             3659357   \n",
       "85                                 0.94             3631915   \n",
       "86                                 0.98             3631737   \n",
       "87                                 1.01             3443158   \n",
       "88                                 1.04             3470652   \n",
       "\n",
       "    daily_change_in_vaccinations  daily_vaccinations_per_million  \\\n",
       "0                              0                               0   \n",
       "1                         191181                             139   \n",
       "2                         -79031                              81   \n",
       "3                          39200                             110   \n",
       "4                          17359                             122   \n",
       "..                           ...                             ...   \n",
       "84                         84948                            2652   \n",
       "85                         27442                            2632   \n",
       "86                           178                            2632   \n",
       "87                        188579                            2495   \n",
       "88                        -27494                            2515   \n",
       "\n",
       "    location_India  vaccine_Covaxin, Oxford/AstraZeneca  \n",
       "0                1                                    1  \n",
       "1                1                                    1  \n",
       "2                1                                    1  \n",
       "3                1                                    1  \n",
       "4                1                                    1  \n",
       "..             ...                                  ...  \n",
       "84               1                                    1  \n",
       "85               1                                    1  \n",
       "86               1                                    1  \n",
       "87               1                                    1  \n",
       "88               1                                    1  \n",
       "\n",
       "[89 rows x 12 columns]"
      ]
     },
     "execution_count": 10,
     "metadata": {},
     "output_type": "execute_result"
    }
   ],
   "source": [
    "df = pd.get_dummies(df, columns = ['location','vaccine'])\n",
    "df"
   ]
  },
  {
   "cell_type": "code",
   "execution_count": null,
   "metadata": {},
   "outputs": [],
   "source": []
  },
  {
   "cell_type": "code",
   "execution_count": 11,
   "metadata": {},
   "outputs": [
    {
     "data": {
      "image/png": "[encoded data removed]",
      "text/plain": [
       "<Figure size 432x288 with 2 Axes>"
      ]
     },
     "metadata": {
      "needs_background": "light"
     },
     "output_type": "display_data"
    }
   ],
   "source": [
    "df.corr()\n",
    "fig = plt.plot(figsize=(10,13))\n",
    "sns.heatmap(df.corr() ,cmap ='coolwarm' ,annot = True)\n",
    "plt.show()"
   ]
  },
  {
   "cell_type": "code",
   "execution_count": 12,
   "metadata": {},
   "outputs": [],
   "source": [
    "df.date = pd.to_datetime(df.date)"
   ]
  },
  {
   "cell_type": "code",
   "execution_count": 13,
   "metadata": {},
   "outputs": [
    {
     "name": "stderr",
     "output_type": "stream",
     "text": [
      "C:\\Users\\USER\\anaconda3\\lib\\site-packages\\seaborn\\_decorators.py:36: FutureWarning: Pass the following variables as keyword args: x, y. From version 0.12, the only valid positional argument will be `data`, and passing other arguments without an explicit keyword will result in an error or misinterpretation.\n",
      "  warnings.warn(\n"
     ]
    },
    {
     "data": {
      "image/png": "[encoded data removed]",
      "text/plain": [
       "<Figure size 1152x720 with 1 Axes>"
      ]
     },
     "metadata": {},
     "output_type": "display_data"
    }
   ],
   "source": [
    "sns.set(style='whitegrid')\n",
    "plt.figure(figsize=(16,10))\n",
    "sns.lineplot(df.date.dt.strftime('%Y-%m-%d'), df.daily_change_in_vaccinations)\n",
    "locs, labels = plt.xticks()\n",
    "x_labels = [x for x in range(len(labels)) if x%5==0] + [0]\n",
    "plt.xticks(x_labels, rotation='45')\n",
    "plt.gca().spines['right'].set_visible(False) \n",
    "plt.gca().spines['top'].set_visible(False)"
   ]
  },
  {
   "cell_type": "code",
   "execution_count": 14,
   "metadata": {},
   "outputs": [
    {
     "data": {
      "text/html": [
       "<div>\n",
       "<style scoped>\n",
       "    .dataframe tbody tr th:only-of-type {\n",
       "        vertical-align: middle;\n",
       "    }\n",
       "\n",
       "    .dataframe tbody tr th {\n",
       "        vertical-align: top;\n",
       "    }\n",
       "\n",
       "    .dataframe thead th {\n",
       "        text-align: right;\n",
       "    }\n",
       "</style>\n",
       "<table border=\"1\" class=\"dataframe\">\n",
       "  <thead>\n",
       "    <tr style=\"text-align: right;\">\n",
       "      <th></th>\n",
       "      <th>date</th>\n",
       "      <th>total_vaccinations</th>\n",
       "      <th>total_vaccinations_per_hundred</th>\n",
       "      <th>people_vaccinated</th>\n",
       "      <th>people_vaccinated_per_hundred</th>\n",
       "      <th>people_fully_vaccinated</th>\n",
       "      <th>people_fully_vaccinated_per_hundred</th>\n",
       "      <th>daily_vaccinations</th>\n",
       "      <th>daily_vaccinations_per_million</th>\n",
       "      <th>location_India</th>\n",
       "      <th>vaccine_Covaxin, Oxford/AstraZeneca</th>\n",
       "    </tr>\n",
       "  </thead>\n",
       "  <tbody>\n",
       "    <tr>\n",
       "      <th>0</th>\n",
       "      <td>2021-01-15</td>\n",
       "      <td>0</td>\n",
       "      <td>0.00</td>\n",
       "      <td>0</td>\n",
       "      <td>0.00</td>\n",
       "      <td>0</td>\n",
       "      <td>0.0</td>\n",
       "      <td>0</td>\n",
       "      <td>0</td>\n",
       "      <td>1</td>\n",
       "      <td>1</td>\n",
       "    </tr>\n",
       "    <tr>\n",
       "      <th>1</th>\n",
       "      <td>2021-01-16</td>\n",
       "      <td>191181</td>\n",
       "      <td>0.01</td>\n",
       "      <td>191181</td>\n",
       "      <td>0.01</td>\n",
       "      <td>0</td>\n",
       "      <td>0.0</td>\n",
       "      <td>191181</td>\n",
       "      <td>139</td>\n",
       "      <td>1</td>\n",
       "      <td>1</td>\n",
       "    </tr>\n",
       "    <tr>\n",
       "      <th>2</th>\n",
       "      <td>2021-01-17</td>\n",
       "      <td>224301</td>\n",
       "      <td>0.02</td>\n",
       "      <td>224301</td>\n",
       "      <td>0.02</td>\n",
       "      <td>0</td>\n",
       "      <td>0.0</td>\n",
       "      <td>112150</td>\n",
       "      <td>81</td>\n",
       "      <td>1</td>\n",
       "      <td>1</td>\n",
       "    </tr>\n",
       "    <tr>\n",
       "      <th>3</th>\n",
       "      <td>2021-01-18</td>\n",
       "      <td>454049</td>\n",
       "      <td>0.03</td>\n",
       "      <td>454049</td>\n",
       "      <td>0.03</td>\n",
       "      <td>0</td>\n",
       "      <td>0.0</td>\n",
       "      <td>151350</td>\n",
       "      <td>110</td>\n",
       "      <td>1</td>\n",
       "      <td>1</td>\n",
       "    </tr>\n",
       "    <tr>\n",
       "      <th>4</th>\n",
       "      <td>2021-01-19</td>\n",
       "      <td>674835</td>\n",
       "      <td>0.05</td>\n",
       "      <td>674835</td>\n",
       "      <td>0.05</td>\n",
       "      <td>0</td>\n",
       "      <td>0.0</td>\n",
       "      <td>168709</td>\n",
       "      <td>122</td>\n",
       "      <td>1</td>\n",
       "      <td>1</td>\n",
       "    </tr>\n",
       "  </tbody>\n",
       "</table>\n",
       "</div>"
      ],
      "text/plain": [
       "        date  total_vaccinations  total_vaccinations_per_hundred  \\\n",
       "0 2021-01-15                   0                            0.00   \n",
       "1 2021-01-16              191181                            0.01   \n",
       "2 2021-01-17              224301                            0.02   \n",
       "3 2021-01-18              454049                            0.03   \n",
       "4 2021-01-19              674835                            0.05   \n",
       "\n",
       "   people_vaccinated  people_vaccinated_per_hundred  people_fully_vaccinated  \\\n",
       "0                  0                           0.00                        0   \n",
       "1             191181                           0.01                        0   \n",
       "2             224301                           0.02                        0   \n",
       "3             454049                           0.03                        0   \n",
       "4             674835                           0.05                        0   \n",
       "\n",
       "   people_fully_vaccinated_per_hundred  daily_vaccinations  \\\n",
       "0                                  0.0                   0   \n",
       "1                                  0.0              191181   \n",
       "2                                  0.0              112150   \n",
       "3                                  0.0              151350   \n",
       "4                                  0.0              168709   \n",
       "\n",
       "   daily_vaccinations_per_million  location_India  \\\n",
       "0                               0               1   \n",
       "1                             139               1   \n",
       "2                              81               1   \n",
       "3                             110               1   \n",
       "4                             122               1   \n",
       "\n",
       "   vaccine_Covaxin, Oxford/AstraZeneca  \n",
       "0                                    1  \n",
       "1                                    1  \n",
       "2                                    1  \n",
       "3                                    1  \n",
       "4                                    1  "
      ]
     },
     "execution_count": 14,
     "metadata": {},
     "output_type": "execute_result"
    }
   ],
   "source": [
    "df = df.drop(['daily_change_in_vaccinations'],axis=1)\n",
    "df.head()"
   ]
  },
  {
   "cell_type": "code",
   "execution_count": null,
   "metadata": {},
   "outputs": [],
   "source": []
  },
  {
   "cell_type": "code",
   "execution_count": null,
   "metadata": {},
   "outputs": [],
   "source": []
  },
  {
   "cell_type": "code",
   "execution_count": 15,
   "metadata": {},
   "outputs": [
    {
     "name": "stderr",
     "output_type": "stream",
     "text": [
      "C:\\Users\\USER\\anaconda3\\lib\\site-packages\\seaborn\\_decorators.py:36: FutureWarning: Pass the following variables as keyword args: x, y. From version 0.12, the only valid positional argument will be `data`, and passing other arguments without an explicit keyword will result in an error or misinterpretation.\n",
      "  warnings.warn(\n"
     ]
    },
    {
     "data": {
      "image/png": "[encoded data removed]",
      "text/plain": [
       "<Figure size 1152x720 with 1 Axes>"
      ]
     },
     "metadata": {},
     "output_type": "display_data"
    }
   ],
   "source": [
    "sns.set(style='whitegrid')\n",
    "plt.figure(figsize=(16,10))\n",
    "sns.lineplot(df.date.dt.strftime('%Y-%m-%d'), df.daily_vaccinations/1000, palette='magma')\n",
    "locs, labels = plt.xticks()\n",
    "x_labels = [x for x in range(len(labels)) if x%5==0] + [0]\n",
    "plt.xticks(x_labels, rotation='45')\n",
    "plt.ylabel('Daily Vaccinations (x1000)')\n",
    "plt.title(\"Vaccination in India\")\n",
    "plt.gca().spines['top'].set_visible(False)\n",
    "plt.gca().spines['right'].set_visible(False)"
   ]
  },
  {
   "cell_type": "code",
   "execution_count": null,
   "metadata": {},
   "outputs": [],
   "source": []
  },
  {
   "cell_type": "code",
   "execution_count": null,
   "metadata": {},
   "outputs": [],
   "source": []
  },
  {
   "cell_type": "code",
   "execution_count": 16,
   "metadata": {},
   "outputs": [
    {
     "data": {
      "image/png": "[encoded data removed]",
      "text/plain": [
       "<Figure size 576x360 with 1 Axes>"
      ]
     },
     "metadata": {},
     "output_type": "display_data"
    }
   ],
   "source": [
    "plt.figure(figsize=(8,5))\n",
    "sns.histplot(df.daily_vaccinations/1000, kde=True ,color='black')\n",
    "plt.xlabel('Daily Vaccinations(x1000)')\n",
    "plt.gca().spines['top'].set_visible(False)\n",
    "plt.gca().spines['right'].set_visible(False) \n",
    "plt.gca().spines['top'].set_visible(False)"
   ]
  },
  {
   "cell_type": "code",
   "execution_count": null,
   "metadata": {},
   "outputs": [],
   "source": []
  },
  {
   "cell_type": "code",
   "execution_count": null,
   "metadata": {},
   "outputs": [],
   "source": []
  },
  {
   "cell_type": "code",
   "execution_count": 17,
   "metadata": {},
   "outputs": [
    {
     "name": "stderr",
     "output_type": "stream",
     "text": [
      "C:\\Users\\USER\\anaconda3\\lib\\site-packages\\seaborn\\_decorators.py:36: FutureWarning: Pass the following variables as keyword args: x, y. From version 0.12, the only valid positional argument will be `data`, and passing other arguments without an explicit keyword will result in an error or misinterpretation.\n",
      "  warnings.warn(\n"
     ]
    },
    {
     "data": {
      "image/png": "[encoded data removed]",
      "text/plain": [
       "<Figure size 1152x720 with 1 Axes>"
      ]
     },
     "metadata": {},
     "output_type": "display_data"
    }
   ],
   "source": [
    "plt.figure(figsize=(16,10))\n",
    "sns.barplot(df.date.dt.strftime('%Y-%m-%d'), df.people_fully_vaccinated/1000, palette='viridis')\n",
    "locs, labels = plt.xticks()\n",
    "x_labels = [x for x in range(len(labels)) if x%5==0] + [0]\n",
    "plt.xticks(x_labels, rotation='45')\n",
    "plt.ylabel('No. of fully vaccinated people (x1000)')\n",
    "plt.title(\"Vaccination in India\")\n",
    "plt.gca().spines['right'].set_visible(False) \n",
    "plt.gca().spines['top'].set_visible(False)\n"
   ]
  },
  {
   "cell_type": "code",
   "execution_count": 18,
   "metadata": {},
   "outputs": [
    {
     "data": {
      "text/plain": [
       "Index(['date', 'total_vaccinations', 'total_vaccinations_per_hundred',\n",
       "       'people_vaccinated', 'people_vaccinated_per_hundred',\n",
       "       'people_fully_vaccinated', 'people_fully_vaccinated_per_hundred',\n",
       "       'daily_vaccinations', 'daily_vaccinations_per_million',\n",
       "       'location_India', 'vaccine_Covaxin, Oxford/AstraZeneca'],\n",
       "      dtype='object')"
      ]
     },
     "execution_count": 18,
     "metadata": {},
     "output_type": "execute_result"
    }
   ],
   "source": [
    "df.columns"
   ]
  },
  {
   "cell_type": "code",
   "execution_count": null,
   "metadata": {},
   "outputs": [],
   "source": []
  },
  {
   "cell_type": "markdown",
   "metadata": {},
   "source": [
    "## Spliting into training and testing (feature and labels)"
   ]
  },
  {
   "cell_type": "code",
   "execution_count": 19,
   "metadata": {},
   "outputs": [],
   "source": [
    "x=df.drop([\"daily_vaccinations\",\"date\"],axis=1)\n",
    "y=df[\"daily_vaccinations\"].values.reshape(-1,1)"
   ]
  },
  {
   "cell_type": "code",
   "execution_count": 20,
   "metadata": {},
   "outputs": [
    {
     "data": {
      "text/html": [
       "<div>\n",
       "<style scoped>\n",
       "    .dataframe tbody tr th:only-of-type {\n",
       "        vertical-align: middle;\n",
       "    }\n",
       "\n",
       "    .dataframe tbody tr th {\n",
       "        vertical-align: top;\n",
       "    }\n",
       "\n",
       "    .dataframe thead th {\n",
       "        text-align: right;\n",
       "    }\n",
       "</style>\n",
       "<table border=\"1\" class=\"dataframe\">\n",
       "  <thead>\n",
       "    <tr style=\"text-align: right;\">\n",
       "      <th></th>\n",
       "      <th>total_vaccinations</th>\n",
       "      <th>total_vaccinations_per_hundred</th>\n",
       "      <th>people_vaccinated</th>\n",
       "      <th>people_vaccinated_per_hundred</th>\n",
       "      <th>people_fully_vaccinated</th>\n",
       "      <th>people_fully_vaccinated_per_hundred</th>\n",
       "      <th>daily_vaccinations_per_million</th>\n",
       "      <th>location_India</th>\n",
       "      <th>vaccine_Covaxin, Oxford/AstraZeneca</th>\n",
       "    </tr>\n",
       "  </thead>\n",
       "  <tbody>\n",
       "    <tr>\n",
       "      <th>0</th>\n",
       "      <td>0</td>\n",
       "      <td>0.00</td>\n",
       "      <td>0</td>\n",
       "      <td>0.00</td>\n",
       "      <td>0</td>\n",
       "      <td>0.0</td>\n",
       "      <td>0</td>\n",
       "      <td>1</td>\n",
       "      <td>1</td>\n",
       "    </tr>\n",
       "    <tr>\n",
       "      <th>1</th>\n",
       "      <td>191181</td>\n",
       "      <td>0.01</td>\n",
       "      <td>191181</td>\n",
       "      <td>0.01</td>\n",
       "      <td>0</td>\n",
       "      <td>0.0</td>\n",
       "      <td>139</td>\n",
       "      <td>1</td>\n",
       "      <td>1</td>\n",
       "    </tr>\n",
       "    <tr>\n",
       "      <th>2</th>\n",
       "      <td>224301</td>\n",
       "      <td>0.02</td>\n",
       "      <td>224301</td>\n",
       "      <td>0.02</td>\n",
       "      <td>0</td>\n",
       "      <td>0.0</td>\n",
       "      <td>81</td>\n",
       "      <td>1</td>\n",
       "      <td>1</td>\n",
       "    </tr>\n",
       "    <tr>\n",
       "      <th>3</th>\n",
       "      <td>454049</td>\n",
       "      <td>0.03</td>\n",
       "      <td>454049</td>\n",
       "      <td>0.03</td>\n",
       "      <td>0</td>\n",
       "      <td>0.0</td>\n",
       "      <td>110</td>\n",
       "      <td>1</td>\n",
       "      <td>1</td>\n",
       "    </tr>\n",
       "    <tr>\n",
       "      <th>4</th>\n",
       "      <td>674835</td>\n",
       "      <td>0.05</td>\n",
       "      <td>674835</td>\n",
       "      <td>0.05</td>\n",
       "      <td>0</td>\n",
       "      <td>0.0</td>\n",
       "      <td>122</td>\n",
       "      <td>1</td>\n",
       "      <td>1</td>\n",
       "    </tr>\n",
       "  </tbody>\n",
       "</table>\n",
       "</div>"
      ],
      "text/plain": [
       "   total_vaccinations  total_vaccinations_per_hundred  people_vaccinated  \\\n",
       "0                   0                            0.00                  0   \n",
       "1              191181                            0.01             191181   \n",
       "2              224301                            0.02             224301   \n",
       "3              454049                            0.03             454049   \n",
       "4              674835                            0.05             674835   \n",
       "\n",
       "   people_vaccinated_per_hundred  people_fully_vaccinated  \\\n",
       "0                           0.00                        0   \n",
       "1                           0.01                        0   \n",
       "2                           0.02                        0   \n",
       "3                           0.03                        0   \n",
       "4                           0.05                        0   \n",
       "\n",
       "   people_fully_vaccinated_per_hundred  daily_vaccinations_per_million  \\\n",
       "0                                  0.0                               0   \n",
       "1                                  0.0                             139   \n",
       "2                                  0.0                              81   \n",
       "3                                  0.0                             110   \n",
       "4                                  0.0                             122   \n",
       "\n",
       "   location_India  vaccine_Covaxin, Oxford/AstraZeneca  \n",
       "0               1                                    1  \n",
       "1               1                                    1  \n",
       "2               1                                    1  \n",
       "3               1                                    1  \n",
       "4               1                                    1  "
      ]
     },
     "execution_count": 20,
     "metadata": {},
     "output_type": "execute_result"
    }
   ],
   "source": [
    "x.head()"
   ]
  },
  {
   "cell_type": "code",
   "execution_count": null,
   "metadata": {},
   "outputs": [],
   "source": []
  },
  {
   "cell_type": "markdown",
   "metadata": {},
   "source": [
    "## Splitting into training and testing"
   ]
  },
  {
   "cell_type": "code",
   "execution_count": 21,
   "metadata": {},
   "outputs": [
    {
     "data": {
      "text/plain": [
       "(71, 18)"
      ]
     },
     "execution_count": 21,
     "metadata": {},
     "output_type": "execute_result"
    }
   ],
   "source": [
    "from sklearn.model_selection import train_test_split\n",
    "x_train,x_test,y_train,y_test =  train_test_split(x,y, test_size = 0.2 , random_state = 42)\n",
    "len(x_train),len(x_test)"
   ]
  },
  {
   "cell_type": "code",
   "execution_count": 22,
   "metadata": {},
   "outputs": [
    {
     "data": {
      "text/plain": [
       "LinearRegression()"
      ]
     },
     "execution_count": 22,
     "metadata": {},
     "output_type": "execute_result"
    }
   ],
   "source": [
    "from sklearn.linear_model import LinearRegression\n",
    "multiple_reg = LinearRegression()\n",
    "multiple_reg.fit(x_train, y_train )"
   ]
  },
  {
   "cell_type": "code",
   "execution_count": 23,
   "metadata": {},
   "outputs": [
    {
     "data": {
      "text/plain": [
       "array([[-2.81581005e-03,  1.65599092e+04,  1.31332668e-04,\n",
       "         2.04196894e+04,  1.43539140e-03,  3.73951578e+03,\n",
       "         1.37966632e+03,  0.00000000e+00,  0.00000000e+00]])"
      ]
     },
     "execution_count": 23,
     "metadata": {},
     "output_type": "execute_result"
    }
   ],
   "source": [
    "multiple_reg.coef_"
   ]
  },
  {
   "cell_type": "code",
   "execution_count": 24,
   "metadata": {},
   "outputs": [
    {
     "data": {
      "text/plain": [
       "array([74.11844338])"
      ]
     },
     "execution_count": 24,
     "metadata": {},
     "output_type": "execute_result"
    }
   ],
   "source": [
    "multiple_reg.intercept_"
   ]
  },
  {
   "cell_type": "code",
   "execution_count": 25,
   "metadata": {},
   "outputs": [],
   "source": [
    "y_pred = multiple_reg.predict(x_test)"
   ]
  },
  {
   "cell_type": "code",
   "execution_count": 26,
   "metadata": {},
   "outputs": [
    {
     "data": {
      "text/plain": [
       "0.9999998938216412"
      ]
     },
     "execution_count": 26,
     "metadata": {},
     "output_type": "execute_result"
    }
   ],
   "source": [
    "multiple_reg.score(x_train, y_train )"
   ]
  },
  {
   "cell_type": "code",
   "execution_count": null,
   "metadata": {},
   "outputs": [],
   "source": []
  },
  {
   "cell_type": "code",
   "execution_count": null,
   "metadata": {},
   "outputs": [],
   "source": []
  },
  {
   "cell_type": "code",
   "execution_count": null,
   "metadata": {},
   "outputs": [],
   "source": []
  },
  {
   "cell_type": "code",
   "execution_count": null,
   "metadata": {},
   "outputs": [],
   "source": []
  },
  {
   "cell_type": "code",
   "execution_count": null,
   "metadata": {},
   "outputs": [],
   "source": []
  },
  {
   "cell_type": "code",
   "execution_count": null,
   "metadata": {},
   "outputs": [],
   "source": []
  },
  {
   "cell_type": "code",
   "execution_count": null,
   "metadata": {},
   "outputs": [],
   "source": []
  }
 ],
 "metadata": {
  "kernelspec": {
   "display_name": "Python 3",
   "language": "python",
   "name": "python3"
  },
  "language_info": {
   "codemirror_mode": {
    "name": "ipython",
    "version": 3
   },
   "file_extension": ".py",
   "mimetype": "text/x-python",
   "name": "python",
   "nbconvert_exporter": "python",
   "pygments_lexer": "ipython3",
   "version": "3.8.5"
  }
 },
 "nbformat": 4,
 "nbformat_minor": 4
}
